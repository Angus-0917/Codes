{
 "cells": [
  {
   "cell_type": "code",
   "execution_count": 1,
   "metadata": {
    "id": "Lxm4pVqZxXWe"
   },
   "outputs": [],
   "source": [
    "import numpy as np\n",
    "import matplotlib.pyplot as plt"
   ]
  },
  {
   "cell_type": "code",
   "execution_count": 2,
   "metadata": {
    "id": "kIIf8ZOnxmir"
   },
   "outputs": [],
   "source": [
    "def critical_max(x,y):\n",
    "      cp_x,cp_y,cp_i=[],[],[]\n",
    "      for i in range(len(x)):\n",
    "        if i+1<len(x) and i-1>=0:\n",
    "          d1=(y[i+1]-y[i])/(x[i+1]-x[i])\n",
    "          d2=(y[i]-y[i-1])/(x[i]-x[i-1])\n",
    "          if d1*d2<0 and y[i]>=y[i+1] and y[i]>=y[i-1]:\n",
    "            cp_i.append(i)\n",
    "            cp_x.append(x[i])\n",
    "            cp_y.append(y[i])\n",
    "      return cp_i,cp_x,cp_y"
   ]
  },
  {
   "cell_type": "code",
   "execution_count": 3,
   "metadata": {
    "id": "pMqWXCtOxr2N"
   },
   "outputs": [],
   "source": [
    "array_x = []\n",
    "array_y = []\n",
    "\n",
    "with open('experiment_5_single_mode.txt', 'r') as f:\n",
    "    for line in f.readlines():\n",
    "        l = line.strip().split('    ')\n",
    "        array_x.append(float(l[0]))\n",
    "        array_y.append(float(l[1]))"
   ]
  },
  {
   "cell_type": "code",
   "execution_count": 4,
   "metadata": {
    "colab": {
     "base_uri": "https://localhost:8080/",
     "height": 265
    },
    "id": "vnwK6Z4gtgn8",
    "outputId": "e6138d68-59c2-4d27-bcc4-317e247e982d"
   },
   "outputs": [
    {
     "data": {
      "image/png": "[encoded data removed]",
      "text/plain": [
       "<Figure size 432x288 with 1 Axes>"
      ]
     },
     "metadata": {
      "needs_background": "light"
     },
     "output_type": "display_data"
    }
   ],
   "source": [
    "plt.plot(array_x,array_y)\n",
    "plt.show()"
   ]
  },
  {
   "cell_type": "code",
   "execution_count": 5,
   "metadata": {
    "id": "21VuhssxtihS"
   },
   "outputs": [],
   "source": [
    "index, xvalues, yvalues= critical_max(array_x,  array_y)"
   ]
  },
  {
   "cell_type": "code",
   "execution_count": 6,
   "metadata": {
    "colab": {
     "base_uri": "https://localhost:8080/"
    },
    "id": "ibPRvuz7tnhV",
    "outputId": "8789d32d-ba59-4049-bc37-03f177a87585"
   },
   "outputs": [
    {
     "name": "stdout",
     "output_type": "stream",
     "text": [
      "[66.0, 72.0, 78.0]\n",
      "[1569, 2281, 835]\n"
     ]
    }
   ],
   "source": [
    "yvalues.sort() # sorting the peak \n",
    "\n",
    "y = np.array(array_y) # changing array_y from [] into array\n",
    "\n",
    "print(yvalues[-3:]) # print the biggest peak\n",
    "\n",
    "peak_index_array = []\n",
    "for i in range(1,4,1):\n",
    "    #print(yvalues[-i])\n",
    "    #print(np.where(y == yvalues[-i])[0])\n",
    "    peak_index_array.append( np.where(y == yvalues[-i])[0][0])\n",
    "\n",
    "print(peak_index_array)"
   ]
  },
  {
   "cell_type": "code",
   "execution_count": 7,
   "metadata": {
    "colab": {
     "base_uri": "https://localhost:8080/",
     "height": 348
    },
    "id": "iRZ8VNlStoba",
    "outputId": "e5a38dec-0eea-457f-b735-79e9e38ff5ed"
   },
   "outputs": [
    {
     "name": "stdout",
     "output_type": "stream",
     "text": [
      "1569.0\n",
      "2281.0\n",
      "[734.0, 712.0]\n",
      "2074688.796680498\n"
     ]
    },
    {
     "data": {
      "image/png": "[encoded data removed]",
      "text/plain": [
       "<Figure size 432x288 with 1 Axes>"
      ]
     },
     "metadata": {
      "needs_background": "light"
     },
     "output_type": "display_data"
    }
   ],
   "source": [
    "gap_array = []\n",
    "for i in range(0,len(peak_index_array)-1):\n",
    "    print(array_x[peak_index_array[i]])\n",
    "    gap_array.append( abs(array_x[peak_index_array[i-1]]-array_x[peak_index_array[i]]))\n",
    "\n",
    "print(gap_array)\n",
    "average_of_the_gap = sum(gap_array)/len(gap_array)\n",
    "frequency = 1.5 * 10 ** 9\n",
    "frequency_ticks = frequency / average_of_the_gap\n",
    "print(frequency_ticks)\n",
    "\n",
    "\n",
    "max_freq = 2500 * frequency_ticks\n",
    "\n",
    "frequency_array = np.arange(0,max_freq,frequency_ticks)\n",
    "\n",
    "\n",
    "\n",
    "plt.plot(frequency_array,array_y)\n",
    "plt.xlabel(\"G Hz\")\n",
    "plt.show()\n"
   ]
  },
  {
   "cell_type": "code",
   "execution_count": 8,
   "metadata": {
    "colab": {
     "base_uri": "https://localhost:8080/"
    },
    "id": "0xbzy9JwvXeu",
    "outputId": "525d7cfd-9581-40ea-84c5-fa8d9a155016"
   },
   "outputs": [
    {
     "name": "stdout",
     "output_type": "stream",
     "text": [
      "[4.67012914598759e-14, 5.359691607549193e-14, 4.32605247860175e-14]\n"
     ]
    }
   ],
   "source": [
    "def lin_interp(x, y, i, half):\n",
    "    return x[i] + (x[i+1] - x[i]) * ((half - y[i]) / (y[i+1] - y[i]))\n",
    "\n",
    "def half_max_x(x, y):\n",
    "    half = (max(y)-min(y))/2.0 + min(y)\n",
    "    signs = np.sign(np.add(y, -half))\n",
    "    zero_crossings = (signs[0:-2] != signs[1:-1])\n",
    "    zero_crossings_i = np.where(zero_crossings)[0]\n",
    "    freq_difference = lin_interp(x, y, zero_crossings_i[1], half) - lin_interp(x, y, zero_crossings_i[0], half)\n",
    "    return freq_difference\n",
    "    \n",
    "#print(half_max_x(frequency_array,array_y))\n",
    "frequency_array_1 = frequency_array[0:1000]\n",
    "array_y_1 = array_y[0:1000]\n",
    "frequency_array_2 = frequency_array[1000:2000]\n",
    "array_y_2 = array_y[1000:2000]\n",
    "frequency_array_3 = frequency_array[2000:2500]\n",
    "array_y_3 = array_y[2000:2500]\n",
    "\n",
    "\n",
    "# Delta mu_2\n",
    "mu_2_array = []\n",
    "mu_2_array.append(half_max_x(frequency_array_1,array_y_1))\n",
    "mu_2_array.append(half_max_x(frequency_array_2,array_y_2))\n",
    "mu_2_array.append(half_max_x(frequency_array_3,array_y_3))\n",
    "\n",
    "#print(half_max_x(frequency_array_1,array_y_1))\n",
    "# del(lambda) = lambda^2 / c * del(mu)\n",
    "c = 3 * 10 ** 8\n",
    "lamda = 632 * 10 **(-9)\n",
    "del_lamda = []\n",
    "for i in range(0,len(mu_2_array)):\n",
    "  del_lamda.append((lamda**2 / c) * mu_2_array[i])\n",
    "\n",
    "print(del_lamda)\n",
    "\n"
   ]
  },
  {
   "cell_type": "code",
   "execution_count": 9,
   "metadata": {
    "id": "qOf11YJABhhH"
   },
   "outputs": [],
   "source": [
    "# 27.5 cm = L"
   ]
  },
  {
   "cell_type": "code",
   "execution_count": 10,
   "metadata": {},
   "outputs": [
    {
     "data": {
      "image/png": "[encoded data removed]",
      "text/plain": [
       "<Figure size 432x288 with 1 Axes>"
      ]
     },
     "metadata": {
      "needs_background": "light"
     },
     "output_type": "display_data"
    }
   ],
   "source": [
    "array_x = []\n",
    "array_y = []\n",
    "\n",
    "with open('experiment_5_triangle_mode.txt', 'r') as f:\n",
    "    for line in f.readlines():\n",
    "        l = line.strip().split('    ')\n",
    "        array_x.append(float(l[0]))\n",
    "        array_y.append(float(l[1]))\n",
    "        \n",
    "plt.plot(array_x,array_y)\n",
    "plt.show()"
   ]
  },
  {
   "cell_type": "code",
   "execution_count": 11,
   "metadata": {},
   "outputs": [
    {
     "name": "stdout",
     "output_type": "stream",
     "text": [
      "[-11.0, -7.0, 21.0]\n",
      "[133, 926, 129]\n"
     ]
    }
   ],
   "source": [
    "index, xvalues, yvalues= critical_max(array_x,  array_y)\n",
    "\n",
    "yvalues.sort() # sorting the peak \n",
    "\n",
    "y = np.array(array_y) # changing array_y from [] into array\n",
    "\n",
    "print(yvalues[-3:]) # print the biggest peak\n",
    "\n",
    "peak_index_array = []\n",
    "for i in range(1,4,1):\n",
    "    #print(yvalues[-i])\n",
    "    #print(np.where(y == yvalues[-i])[0])\n",
    "    peak_index_array.append( np.where(y == yvalues[-i])[0][0])\n",
    "\n",
    "print(peak_index_array)\n"
   ]
  },
  {
   "cell_type": "code",
   "execution_count": 12,
   "metadata": {},
   "outputs": [
    {
     "name": "stdout",
     "output_type": "stream",
     "text": [
      "133.0\n",
      "926.0\n",
      "[4.0, 793.0]\n",
      "3764115.4328732747\n"
     ]
    },
    {
     "data": {
      "image/png": "[encoded data removed]",
      "text/plain": [
       "<Figure size 432x288 with 1 Axes>"
      ]
     },
     "metadata": {
      "needs_background": "light"
     },
     "output_type": "display_data"
    }
   ],
   "source": [
    "gap_array = []\n",
    "for i in range(0,len(peak_index_array)-1):\n",
    "    print(array_x[peak_index_array[i]])\n",
    "    gap_array.append( abs(array_x[peak_index_array[i-1]]-array_x[peak_index_array[i]]))\n",
    "\n",
    "print(gap_array)\n",
    "average_of_the_gap = sum(gap_array)/len(gap_array)\n",
    "frequency = 1.5 * 10 ** 9\n",
    "frequency_ticks = frequency / average_of_the_gap\n",
    "print(frequency_ticks)\n",
    "\n",
    "\n",
    "max_freq = 2500 * frequency_ticks\n",
    "\n",
    "frequency_array = np.arange(0,max_freq,frequency_ticks)\n",
    "\n",
    "\n",
    "\n",
    "plt.plot(frequency_array,array_y)\n",
    "plt.xlabel(\"G Hz\")\n",
    "plt.show()\n"
   ]
  },
  {
   "cell_type": "code",
   "execution_count": 13,
   "metadata": {},
   "outputs": [
    {
     "name": "stdout",
     "output_type": "stream",
     "text": [
      "72137068.05927658\n",
      "[3.57076035131744e-14, 9.485959317136253e-14, 9.604425424169497e-14]\n"
     ]
    }
   ],
   "source": [
    "def lin_interp(x, y, i, half):\n",
    "    return x[i] + (x[i+1] - x[i]) * ((half - y[i]) / (y[i+1] - y[i]))\n",
    "\n",
    "def half_max_x(x, y):\n",
    "    half = (max(y)-min(y))/2.0 + min(y)\n",
    "    signs = np.sign(np.add(y, -half))\n",
    "    zero_crossings = (signs[0:-2] != signs[1:-1])\n",
    "    zero_crossings_i = np.where(zero_crossings)[0]\n",
    "    freq_difference = lin_interp(x, y, zero_crossings_i[1], half) - lin_interp(x, y, zero_crossings_i[0], half)\n",
    "    return freq_difference\n",
    "    \n",
    "#print(half_max_x(frequency_array,array_y))\n",
    "frequency_array_1 = frequency_array[0:1000]\n",
    "array_y_1 = array_y[0:1000]\n",
    "frequency_array_2 = frequency_array[1000:2000]\n",
    "array_y_2 = array_y[1000:2000]\n",
    "frequency_array_3 = frequency_array[2000:2500]\n",
    "array_y_3 = array_y[2000:2500]\n",
    "\n",
    "\n",
    "# Delta mu_2\n",
    "mu_2_array = []\n",
    "mu_2_array.append(half_max_x(frequency_array_1,array_y_1))\n",
    "mu_2_array.append(half_max_x(frequency_array_2,array_y_2))\n",
    "mu_2_array.append(half_max_x(frequency_array_3,array_y_3))\n",
    "\n",
    "print(half_max_x(frequency_array_3,array_y_3))\n",
    "# del(lambda) = lambda^2 / c * del(mu)\n",
    "c = 3 * 10 ** 8\n",
    "lamda = 632 * 10 **(-9)\n",
    "del_lamda_1 = []\n",
    "for i in range(0,len(mu_2_array)):\n",
    "  del_lamda_1.append((lamda**2 / c) * mu_2_array[i])\n",
    "\n",
    "print(del_lamda_1)\n"
   ]
  },
  {
   "cell_type": "code",
   "execution_count": 14,
   "metadata": {},
   "outputs": [],
   "source": [
    "# [4.67012914598759e-14, 5.359691607549193e-14, 4.32605247860175e-14] ------- experiment_5_single_mode\n",
    "\n",
    "# [3.2063853211006295e-15, 2.877394020507312e-14, 0.0] ---------------------- experiment_5\n",
    "\n",
    "# [3.1467708814745837e-15, 5.2035102228348123e-14, 4.690299355556386e-14] --- experiment_5_1\n",
    "\n",
    "# [1.6448933996702439e-15, 6.370398724080535e-16, 1.552029391043625e-15] ---- experiment_5_2\n",
    "\n",
    "# [3.57076035131744e-14, 9.485959317136253e-14, 9.604425424169497e-14] ------ experiment_5_triangle_mode\n"
   ]
  },
  {
   "cell_type": "code",
   "execution_count": 15,
   "metadata": {},
   "outputs": [
    {
     "name": "stdout",
     "output_type": "stream",
     "text": [
      "[4.67012914598759e-14, 5.359691607549193e-14, 4.32605247860175e-14, 3.2063853211006295e-15, 2.877394020507312e-14, 3.1467708814745837e-15, 5.2035102228348123e-14, 4.690299355556386e-14, 1.6448933996702439e-15, 6.370398724080535e-16, 1.552029391043625e-15, 3.57076035131744e-14, 9.485959317136253e-14, 9.604425424169497e-14]\n"
     ]
    }
   ],
   "source": [
    "del_lambda_final = []\n",
    "del_lambda_final.extend([4.67012914598759e-14, 5.359691607549193e-14, 4.32605247860175e-14, 3.2063853211006295e-15, 2.877394020507312e-14, 3.1467708814745837e-15, 5.2035102228348123e-14, 4.690299355556386e-14, 1.6448933996702439e-15, 6.370398724080535e-16, 1.552029391043625e-15, 3.57076035131744e-14, 9.485959317136253e-14, 9.604425424169497e-14])\n",
    "print(del_lambda_final)"
   ]
  },
  {
   "cell_type": "code",
   "execution_count": 16,
   "metadata": {},
   "outputs": [
    {
     "name": "stdout",
     "output_type": "stream",
     "text": [
      "Average del(lambda) =  3.629066700730711e-14\n"
     ]
    }
   ],
   "source": [
    "del_average_lambda = sum(del_lambda_final)/len(del_lambda_final)\n",
    "print('Average del(lambda) = ', del_average_lambda)"
   ]
  },
  {
   "cell_type": "code",
   "execution_count": 17,
   "metadata": {},
   "outputs": [
    {
     "name": "stdout",
     "output_type": "stream",
     "text": [
      "Stdev del(lambda) =  3.2517448192615286e-14\n"
     ]
    }
   ],
   "source": [
    "import statistics\n",
    "\n",
    "stdev_del_lambda = statistics.stdev(del_lambda_final)\n",
    "\n",
    "print('Stdev del(lambda) = ', stdev_del_lambda)"
   ]
  },
  {
   "cell_type": "code",
   "execution_count": 18,
   "metadata": {},
   "outputs": [],
   "source": [
    "# 3.133459712804049e-14 -------------- np.std\n",
    "# 3.2517448192615286e-14 ------------- stadistics.stdev  this one agrees with R"
   ]
  },
  {
   "cell_type": "code",
   "execution_count": 19,
   "metadata": {},
   "outputs": [
    {
     "name": "stdout",
     "output_type": "stream",
     "text": [
      "Error del(lambda) =  8.690653587781281e-15\n"
     ]
    }
   ],
   "source": [
    "import math\n",
    "\n",
    "error_stdev = stdev_del_lambda / math.sqrt(len(del_lambda_final))\n",
    "\n",
    "print('Error del(lambda) = ', error_stdev)"
   ]
  },
  {
   "cell_type": "code",
   "execution_count": 20,
   "metadata": {},
   "outputs": [
    {
     "name": "stdout",
     "output_type": "stream",
     "text": [
      "Fianl result =  3.629066700730711e-14 +- 8.690653587781281e-15 m\n"
     ]
    }
   ],
   "source": [
    "print('Fianl result = ', del_average_lambda, '+-', error_stdev, 'm')"
   ]
  },
  {
   "cell_type": "code",
   "execution_count": null,
   "metadata": {},
   "outputs": [],
   "source": []
  }
 ],
 "metadata": {
  "colab": {
   "provenance": []
  },
  "kernelspec": {
   "display_name": "tensorflow_env",
   "language": "python",
   "name": "python3"
  },
  "language_info": {
   "codemirror_mode": {
    "name": "ipython",
    "version": 3
   },
   "file_extension": ".py",
   "mimetype": "text/x-python",
   "name": "python",
   "nbconvert_exporter": "python",
   "pygments_lexer": "ipython3",
   "version": "3.8.12"
  },
  "vscode": {
   "interpreter": {
    "hash": "b560388ebb5d639c5d9ec551bbab2307c9dcd812f5d348e072a29cf736a3ec50"
   }
  }
 },
 "nbformat": 4,
 "nbformat_minor": 1
}
